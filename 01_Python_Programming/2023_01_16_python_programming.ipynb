{
 "cells": [
  {
   "cell_type": "markdown",
   "id": "1084bc24",
   "metadata": {},
   "source": [
    "## Python Code 실행하기"
   ]
  },
  {
   "cell_type": "markdown",
   "id": "0754c6b3",
   "metadata": {},
   "source": [
    "### 프로그램 실행방법 option 1"
   ]
  },
  {
   "cell_type": "code",
   "execution_count": 1,
   "id": "3be44e3b",
   "metadata": {},
   "outputs": [
    {
     "name": "stdout",
     "output_type": "stream",
     "text": [
      "Hello World!\n"
     ]
    }
   ],
   "source": [
    "print('Hello World!')"
   ]
  },
  {
   "cell_type": "markdown",
   "id": "069d7fc1",
   "metadata": {},
   "source": [
    "### 프로그램 실행방법 option 2"
   ]
  },
  {
   "cell_type": "markdown",
   "id": "4dd6422f",
   "metadata": {},
   "source": [
    "cmd 창 (or anaconda prompt 창) 에서"
   ]
  },
  {
   "cell_type": "markdown",
   "id": "ef364312",
   "metadata": {},
   "source": [
    "`python hello.py`"
   ]
  },
  {
   "cell_type": "markdown",
   "id": "59206d50",
   "metadata": {},
   "source": [
    "### 프로그램 실행방법 option 3"
   ]
  },
  {
   "cell_type": "code",
   "execution_count": 2,
   "id": "8ff2f39a",
   "metadata": {},
   "outputs": [
    {
     "name": "stdout",
     "output_type": "stream",
     "text": [
      "Hello World!\n"
     ]
    }
   ],
   "source": [
    "%run hello.py"
   ]
  },
  {
   "cell_type": "markdown",
   "id": "aef92066",
   "metadata": {},
   "source": [
    "## 많이 사용하는 jupyter notebook 단축키\n",
    "- a: 현재 셀 위에 셀 추가\n",
    "- b: 현재 셀 아래에 셀 추가\n",
    "- shift + Enter: 셀 실행\n",
    "- alt + Enter: 셀 실행 후 아래에 셀 추가\n",
    "- m: 현재 셀 markdown 모드로 변경\n",
    "- y: 현재 셀 code 모드로 변경\n",
    "- x: 현재 셀 삭제\n",
    "- dd: 현재 셀 삭제\n",
    "- ctrl + shift + -: 현재 셀 분리\n",
    "- shift + up key or shift + down key: 셀 다중 선택\n",
    "- 셀 다중 선택 상태에서 shift + m: 선택된 셀 병합\n",
    "- ESC : 에디터 모드에서 셀 포커스 모드 전환\n",
    "- Enter: 셀 포커스모드에서 에디터모드로 전환"
   ]
  },
  {
   "cell_type": "markdown",
   "id": "0de5fb74",
   "metadata": {},
   "source": [
    "## Markdown Language\n",
    "**[문법 Cheatsheet](https://www.markdownguide.org/cheat-sheet/)**"
   ]
  },
  {
   "cell_type": "markdown",
   "id": "972d05f9",
   "metadata": {},
   "source": [
    "## 이미지 삽입하는 방법"
   ]
  },
  {
   "cell_type": "markdown",
   "id": "67606f99",
   "metadata": {},
   "source": [
    "![markdown logo](markdownlogo.png)"
   ]
  },
  {
   "cell_type": "code",
   "execution_count": 3,
   "id": "6f8be177",
   "metadata": {},
   "outputs": [
    {
     "data": {
      "image/png": "[encoded data removed]",
      "text/plain": [
       "<IPython.core.display.Image object>"
      ]
     },
     "execution_count": 3,
     "metadata": {
      "image/png": {
       "width": 60
      }
     },
     "output_type": "execute_result"
    }
   ],
   "source": [
    "from IPython.display import Image\n",
    "Image('markdownlogo.png', width=60)"
   ]
  },
  {
   "cell_type": "markdown",
   "id": "a6dc7c26",
   "metadata": {},
   "source": [
    "## 탭 완성 기능"
   ]
  },
  {
   "cell_type": "code",
   "execution_count": 4,
   "id": "9a27bf9d",
   "metadata": {},
   "outputs": [],
   "source": [
    "an_apple = 'apple' "
   ]
  },
  {
   "cell_type": "code",
   "execution_count": 5,
   "id": "a0b1c55d",
   "metadata": {},
   "outputs": [
    {
     "data": {
      "text/plain": [
       "('apple', str)"
      ]
     },
     "execution_count": 5,
     "metadata": {},
     "output_type": "execute_result"
    }
   ],
   "source": [
    "# an_만 입력하고 탭을 누르면 자동완성이 된다\n",
    "an_apple, type(an_apple)"
   ]
  },
  {
   "cell_type": "code",
   "execution_count": 42,
   "id": "e7dfcd37",
   "metadata": {},
   "outputs": [
    {
     "data": {
      "text/plain": [
       "['apple', 3, 4]"
      ]
     },
     "execution_count": 42,
     "metadata": {},
     "output_type": "execute_result"
    }
   ],
   "source": [
    "# python list 자료형\n",
    "a = [an_apple, 3, 4]\n",
    "\n",
    "a"
   ]
  },
  {
   "cell_type": "code",
   "execution_count": 10,
   "id": "b8775674",
   "metadata": {},
   "outputs": [
    {
     "data": {
      "text/plain": [
       "('apple', list)"
      ]
     },
     "execution_count": 10,
     "metadata": {},
     "output_type": "execute_result"
    }
   ],
   "source": [
    "a[0], type(a)"
   ]
  },
  {
   "cell_type": "markdown",
   "id": "89d44b89",
   "metadata": {},
   "source": [
    "`a.<탭키>` a 객체에서 제공하는 메소드(함수) 리스트를 볼 수 있음."
   ]
  },
  {
   "cell_type": "markdown",
   "id": "d66c1eaa",
   "metadata": {},
   "source": [
    "## 도움말 (Jupyter 전용)"
   ]
  },
  {
   "cell_type": "code",
   "execution_count": 40,
   "id": "bb51e9e6",
   "metadata": {},
   "outputs": [],
   "source": [
    "a?"
   ]
  },
  {
   "cell_type": "code",
   "execution_count": 41,
   "id": "6f8799e3",
   "metadata": {},
   "outputs": [],
   "source": [
    "# 객체에 대한 정보를 표시해줌"
   ]
  },
  {
   "cell_type": "code",
   "execution_count": 20,
   "id": "b2310e99",
   "metadata": {},
   "outputs": [],
   "source": [
    "?a"
   ]
  },
  {
   "cell_type": "code",
   "execution_count": 21,
   "id": "02e5e987",
   "metadata": {},
   "outputs": [],
   "source": [
    "# 물음표를 앞에 붙여도 똑같이 작동함"
   ]
  },
  {
   "cell_type": "code",
   "execution_count": 25,
   "id": "7c685a64",
   "metadata": {},
   "outputs": [],
   "source": [
    "print?"
   ]
  },
  {
   "cell_type": "code",
   "execution_count": 35,
   "id": "3f43d534",
   "metadata": {},
   "outputs": [
    {
     "data": {
      "text/plain": [
       "(95.0, 24.0)"
      ]
     },
     "execution_count": 35,
     "metadata": {},
     "output_type": "execute_result"
    }
   ],
   "source": [
    "# 함수 만들기\n",
    "def function_name(a, b): # 함수 정의\n",
    "    \"\"\"\n",
    "    example docstring\n",
    "    \"\"\"\n",
    "    return (a + b) / 2\n",
    "\n",
    "# 함수 호출\n",
    "result1 = function_name(90, 100)\n",
    "result2 = function_name(32, 16)\n",
    "result1, result2 # 출력"
   ]
  },
  {
   "cell_type": "code",
   "execution_count": 36,
   "id": "741ea5e9",
   "metadata": {},
   "outputs": [],
   "source": [
    "function_name?"
   ]
  },
  {
   "cell_type": "code",
   "execution_count": 37,
   "id": "467f5ec6",
   "metadata": {},
   "outputs": [],
   "source": [
    "function_name??"
   ]
  },
  {
   "cell_type": "code",
   "execution_count": 38,
   "id": "f444f53f",
   "metadata": {},
   "outputs": [],
   "source": [
    "#물음표 두개는 소스코드까지 보여줌"
   ]
  },
  {
   "cell_type": "code",
   "execution_count": 43,
   "id": "7f6011ee",
   "metadata": {},
   "outputs": [],
   "source": [
    "??a"
   ]
  },
  {
   "cell_type": "markdown",
   "id": "8b9c7115",
   "metadata": {},
   "source": [
    "## 매직 명령어\n",
    "\n",
    "- `%run hello.py` python 스크립트를 실행할 때 사용\n",
    "- `%pwd` 현재 주피터 노트북이 있는 위치를 알려줌\n",
    "- `%load file_name` 원하는 파일을 노트북 안으로 가져올 때 사용. 매직 명령어 부분은 주석처리가 되고 파일 안에 코드를 그대로 붙여넣는다.\n",
    "- `%time code` 코드가 실행하는데 걸리는 시간을 알려줌\n",
    "- `%timeit code` 여려번 실행 한 후 평균 시간을 알려줌"
   ]
  },
  {
   "cell_type": "markdown",
   "id": "d9b342f1",
   "metadata": {},
   "source": [
    "## 기분 문법"
   ]
  },
  {
   "cell_type": "code",
   "execution_count": 45,
   "id": "ab50b536",
   "metadata": {},
   "outputs": [
    {
     "data": {
      "text/plain": [
       "(int, str)"
      ]
     },
     "execution_count": 45,
     "metadata": {},
     "output_type": "execute_result"
    }
   ],
   "source": [
    "# 파이썬의 타입(자료형)은 미리 지정이 되어 있지 않음\n",
    "# 입력되는 데이터의 종류에 따라서 결정\n",
    "a = 3\n",
    "b = 'asdf'\n",
    "type(a),type(b)"
   ]
  },
  {
   "cell_type": "code",
   "execution_count": 50,
   "id": "045a06a1",
   "metadata": {},
   "outputs": [],
   "source": [
    "a = 2; b = 'asdf' # 여러 변수를 한줄에 지정하려면 중간에 세미콜론을 쓰면 된다."
   ]
  },
  {
   "cell_type": "code",
   "execution_count": 53,
   "id": "f928db46",
   "metadata": {},
   "outputs": [
    {
     "name": "stdout",
     "output_type": "stream",
     "text": [
      "a는 3이 아닙니다\n",
      "else문 끝\n"
     ]
    }
   ],
   "source": [
    "#조건문\n",
    "if a == 3:\n",
    "    print('a에 3이 들어있습니다') # 들여쓰기로 코드 블록 구분\n",
    "    print('if문 끝')\n",
    "else:\n",
    "    print('a는 3이 아닙니다')\n",
    "    print('else문 끝')"
   ]
  },
  {
   "cell_type": "code",
   "execution_count": null,
   "id": "02833452",
   "metadata": {},
   "outputs": [],
   "source": []
  }
 ],
 "metadata": {
  "kernelspec": {
   "display_name": "Python 3",
   "language": "python",
   "name": "python3"
  },
  "language_info": {
   "codemirror_mode": {
    "name": "ipython",
    "version": 3
   },
   "file_extension": ".py",
   "mimetype": "text/x-python",
   "name": "python",
   "nbconvert_exporter": "python",
   "pygments_lexer": "ipython3",
   "version": "3.9.13"
  }
 },
 "nbformat": 4,
 "nbformat_minor": 5
}
